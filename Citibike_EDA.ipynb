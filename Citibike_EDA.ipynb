{
 "cells": [
  {
   "cell_type": "code",
   "execution_count": 1,
   "id": "939ab911",
   "metadata": {},
   "outputs": [],
   "source": [
    "import pandas as pd\n",
    "import matplotlib.pyplot as plt"
   ]
  },
  {
   "cell_type": "code",
   "execution_count": 2,
   "id": "73066cd4",
   "metadata": {},
   "outputs": [],
   "source": [
    "combined_df = pd.read_csv(\"JC-ALL-2023-citibike-tripdata.csv\")"
   ]
  },
  {
   "cell_type": "code",
   "execution_count": 3,
   "id": "f47541f6",
   "metadata": {},
   "outputs": [
    {
     "data": {
      "text/html": [
       "<div>\n",
       "<style scoped>\n",
       "    .dataframe tbody tr th:only-of-type {\n",
       "        vertical-align: middle;\n",
       "    }\n",
       "\n",
       "    .dataframe tbody tr th {\n",
       "        vertical-align: top;\n",
       "    }\n",
       "\n",
       "    .dataframe thead th {\n",
       "        text-align: right;\n",
       "    }\n",
       "</style>\n",
       "<table border=\"1\" class=\"dataframe\">\n",
       "  <thead>\n",
       "    <tr style=\"text-align: right;\">\n",
       "      <th></th>\n",
       "      <th>Unnamed: 0</th>\n",
       "      <th>ride_id</th>\n",
       "      <th>rideable_type</th>\n",
       "      <th>started_at</th>\n",
       "      <th>ended_at</th>\n",
       "      <th>start_station_name</th>\n",
       "      <th>start_station_id</th>\n",
       "      <th>end_station_name</th>\n",
       "      <th>end_station_id</th>\n",
       "      <th>start_lat</th>\n",
       "      <th>start_lng</th>\n",
       "      <th>end_lat</th>\n",
       "      <th>end_lng</th>\n",
       "      <th>member_casual</th>\n",
       "    </tr>\n",
       "  </thead>\n",
       "  <tbody>\n",
       "    <tr>\n",
       "      <th>0</th>\n",
       "      <td>0</td>\n",
       "      <td>0905B18B365C9D20</td>\n",
       "      <td>classic_bike</td>\n",
       "      <td>2023-01-28 09:18:10</td>\n",
       "      <td>2023-01-28 09:28:52</td>\n",
       "      <td>Hoboken Terminal - Hudson St &amp; Hudson Pl</td>\n",
       "      <td>HB101</td>\n",
       "      <td>Hamilton Park</td>\n",
       "      <td>JC009</td>\n",
       "      <td>40.735938</td>\n",
       "      <td>-74.030305</td>\n",
       "      <td>40.727596</td>\n",
       "      <td>-74.044247</td>\n",
       "      <td>member</td>\n",
       "    </tr>\n",
       "    <tr>\n",
       "      <th>1</th>\n",
       "      <td>1</td>\n",
       "      <td>B4F0562B05CB5404</td>\n",
       "      <td>electric_bike</td>\n",
       "      <td>2023-01-23 20:10:12</td>\n",
       "      <td>2023-01-23 20:18:27</td>\n",
       "      <td>Hoboken Terminal - Hudson St &amp; Hudson Pl</td>\n",
       "      <td>HB101</td>\n",
       "      <td>Southwest Park - Jackson St &amp; Observer Hwy</td>\n",
       "      <td>HB401</td>\n",
       "      <td>40.735938</td>\n",
       "      <td>-74.030305</td>\n",
       "      <td>40.737551</td>\n",
       "      <td>-74.041664</td>\n",
       "      <td>member</td>\n",
       "    </tr>\n",
       "    <tr>\n",
       "      <th>2</th>\n",
       "      <td>2</td>\n",
       "      <td>5ABF032895F5D87E</td>\n",
       "      <td>classic_bike</td>\n",
       "      <td>2023-01-29 15:27:04</td>\n",
       "      <td>2023-01-29 15:32:38</td>\n",
       "      <td>Hoboken Terminal - Hudson St &amp; Hudson Pl</td>\n",
       "      <td>HB101</td>\n",
       "      <td>Marshall St &amp; 2 St</td>\n",
       "      <td>HB408</td>\n",
       "      <td>40.735944</td>\n",
       "      <td>-74.030383</td>\n",
       "      <td>40.740802</td>\n",
       "      <td>-74.042521</td>\n",
       "      <td>member</td>\n",
       "    </tr>\n",
       "    <tr>\n",
       "      <th>3</th>\n",
       "      <td>3</td>\n",
       "      <td>E7E1F9C53976D2F9</td>\n",
       "      <td>classic_bike</td>\n",
       "      <td>2023-01-24 18:35:08</td>\n",
       "      <td>2023-01-24 18:42:13</td>\n",
       "      <td>Hoboken Terminal - Hudson St &amp; Hudson Pl</td>\n",
       "      <td>HB101</td>\n",
       "      <td>Hamilton Park</td>\n",
       "      <td>JC009</td>\n",
       "      <td>40.735986</td>\n",
       "      <td>-74.030364</td>\n",
       "      <td>40.727596</td>\n",
       "      <td>-74.044247</td>\n",
       "      <td>member</td>\n",
       "    </tr>\n",
       "    <tr>\n",
       "      <th>4</th>\n",
       "      <td>4</td>\n",
       "      <td>323165780CA0734B</td>\n",
       "      <td>classic_bike</td>\n",
       "      <td>2023-01-21 20:44:09</td>\n",
       "      <td>2023-01-21 20:48:08</td>\n",
       "      <td>Hamilton Park</td>\n",
       "      <td>JC009</td>\n",
       "      <td>Manila &amp; 1st</td>\n",
       "      <td>JC082</td>\n",
       "      <td>40.727596</td>\n",
       "      <td>-74.044247</td>\n",
       "      <td>40.721651</td>\n",
       "      <td>-74.042884</td>\n",
       "      <td>member</td>\n",
       "    </tr>\n",
       "  </tbody>\n",
       "</table>\n",
       "</div>"
      ],
      "text/plain": [
       "   Unnamed: 0           ride_id  rideable_type           started_at  \\\n",
       "0           0  0905B18B365C9D20   classic_bike  2023-01-28 09:18:10   \n",
       "1           1  B4F0562B05CB5404  electric_bike  2023-01-23 20:10:12   \n",
       "2           2  5ABF032895F5D87E   classic_bike  2023-01-29 15:27:04   \n",
       "3           3  E7E1F9C53976D2F9   classic_bike  2023-01-24 18:35:08   \n",
       "4           4  323165780CA0734B   classic_bike  2023-01-21 20:44:09   \n",
       "\n",
       "              ended_at                        start_station_name  \\\n",
       "0  2023-01-28 09:28:52  Hoboken Terminal - Hudson St & Hudson Pl   \n",
       "1  2023-01-23 20:18:27  Hoboken Terminal - Hudson St & Hudson Pl   \n",
       "2  2023-01-29 15:32:38  Hoboken Terminal - Hudson St & Hudson Pl   \n",
       "3  2023-01-24 18:42:13  Hoboken Terminal - Hudson St & Hudson Pl   \n",
       "4  2023-01-21 20:48:08                             Hamilton Park   \n",
       "\n",
       "  start_station_id                            end_station_name end_station_id  \\\n",
       "0            HB101                               Hamilton Park          JC009   \n",
       "1            HB101  Southwest Park - Jackson St & Observer Hwy          HB401   \n",
       "2            HB101                          Marshall St & 2 St          HB408   \n",
       "3            HB101                               Hamilton Park          JC009   \n",
       "4            JC009                                Manila & 1st          JC082   \n",
       "\n",
       "   start_lat  start_lng    end_lat    end_lng member_casual  \n",
       "0  40.735938 -74.030305  40.727596 -74.044247        member  \n",
       "1  40.735938 -74.030305  40.737551 -74.041664        member  \n",
       "2  40.735944 -74.030383  40.740802 -74.042521        member  \n",
       "3  40.735986 -74.030364  40.727596 -74.044247        member  \n",
       "4  40.727596 -74.044247  40.721651 -74.042884        member  "
      ]
     },
     "execution_count": 3,
     "metadata": {},
     "output_type": "execute_result"
    }
   ],
   "source": [
    "combined_df.head()"
   ]
  },
  {
   "cell_type": "code",
   "execution_count": 4,
   "id": "b0833bba",
   "metadata": {},
   "outputs": [
    {
     "data": {
      "text/plain": [
       "<bound method NDFrame.describe of         Unnamed: 0           ride_id  rideable_type           started_at  \\\n",
       "0                0  0905B18B365C9D20   classic_bike  2023-01-28 09:18:10   \n",
       "1                1  B4F0562B05CB5404  electric_bike  2023-01-23 20:10:12   \n",
       "2                2  5ABF032895F5D87E   classic_bike  2023-01-29 15:27:04   \n",
       "3                3  E7E1F9C53976D2F9   classic_bike  2023-01-24 18:35:08   \n",
       "4                4  323165780CA0734B   classic_bike  2023-01-21 20:44:09   \n",
       "...            ...               ...            ...                  ...   \n",
       "988846      988846  7E862701EE7A6A03   classic_bike  2023-12-20 17:55:41   \n",
       "988847      988847  DFAF91AB91BE25DB   classic_bike  2023-12-13 14:36:43   \n",
       "988848      988848  AEE7B49E6EDFAE6F   classic_bike  2023-12-18 16:40:00   \n",
       "988849      988849  A38E98956AD72EFB   classic_bike  2023-12-02 13:42:51   \n",
       "988850      988850  F16E0B969D877368   classic_bike  2023-12-19 16:30:13   \n",
       "\n",
       "                   ended_at                        start_station_name  \\\n",
       "0       2023-01-28 09:28:52  Hoboken Terminal - Hudson St & Hudson Pl   \n",
       "1       2023-01-23 20:18:27  Hoboken Terminal - Hudson St & Hudson Pl   \n",
       "2       2023-01-29 15:32:38  Hoboken Terminal - Hudson St & Hudson Pl   \n",
       "3       2023-01-24 18:42:13  Hoboken Terminal - Hudson St & Hudson Pl   \n",
       "4       2023-01-21 20:48:08                             Hamilton Park   \n",
       "...                     ...                                       ...   \n",
       "988846  2023-12-20 18:00:10                          Heights Elevator   \n",
       "988847  2023-12-13 14:42:31                          Heights Elevator   \n",
       "988848  2023-12-18 16:45:45                           6 St & Grand St   \n",
       "988849  2023-12-02 13:50:42                           6 St & Grand St   \n",
       "988850  2023-12-19 16:36:54                           6 St & Grand St   \n",
       "\n",
       "       start_station_id                            end_station_name  \\\n",
       "0                 HB101                               Hamilton Park   \n",
       "1                 HB101  Southwest Park - Jackson St & Observer Hwy   \n",
       "2                 HB101                          Marshall St & 2 St   \n",
       "3                 HB101                               Hamilton Park   \n",
       "4                 JC009                                Manila & 1st   \n",
       "...                 ...                                         ...   \n",
       "988846            JC059                       Bloomfield St & 15 St   \n",
       "988847            JC059                       Bloomfield St & 15 St   \n",
       "988848            HB302                       Bloomfield St & 15 St   \n",
       "988849            HB302                       Bloomfield St & 15 St   \n",
       "988850            HB302                           Clinton St & 7 St   \n",
       "\n",
       "       end_station_id  start_lat  start_lng    end_lat    end_lng  \\\n",
       "0               JC009  40.735938 -74.030305  40.727596 -74.044247   \n",
       "1               HB401  40.735938 -74.030305  40.737551 -74.041664   \n",
       "2               HB408  40.735944 -74.030383  40.740802 -74.042521   \n",
       "3               JC009  40.735986 -74.030364  40.727596 -74.044247   \n",
       "4               JC082  40.727596 -74.044247  40.721651 -74.042884   \n",
       "...               ...        ...        ...        ...        ...   \n",
       "988846          HB203  40.748720 -74.040487  40.754530 -74.026580   \n",
       "988847          HB203  40.748767 -74.040470  40.754530 -74.026580   \n",
       "988848          HB203  40.744291 -74.034404  40.754530 -74.026580   \n",
       "988849          HB203  40.744398 -74.034501  40.754530 -74.026580   \n",
       "988850          HB303  40.744398 -74.034501  40.745420 -74.033320   \n",
       "\n",
       "       member_casual  \n",
       "0             member  \n",
       "1             member  \n",
       "2             member  \n",
       "3             member  \n",
       "4             member  \n",
       "...              ...  \n",
       "988846        casual  \n",
       "988847        member  \n",
       "988848        member  \n",
       "988849        member  \n",
       "988850        member  \n",
       "\n",
       "[988851 rows x 14 columns]>"
      ]
     },
     "execution_count": 4,
     "metadata": {},
     "output_type": "execute_result"
    }
   ],
   "source": [
    "combined_df.describe"
   ]
  },
  {
   "cell_type": "code",
   "execution_count": 38,
   "id": "453323b8",
   "metadata": {},
   "outputs": [],
   "source": [
    "null_counts = combined_df.isnull().sum()"
   ]
  },
  {
   "cell_type": "code",
   "execution_count": 39,
   "id": "093c31a0",
   "metadata": {},
   "outputs": [
    {
     "data": {
      "text/plain": [
       "Unnamed: 0            0\n",
       "ride_id               0\n",
       "rideable_type         0\n",
       "started_at            0\n",
       "ended_at              0\n",
       "start_station_name    0\n",
       "start_station_id      0\n",
       "end_station_name      0\n",
       "end_station_id        0\n",
       "start_lat             0\n",
       "start_lng             0\n",
       "end_lat               0\n",
       "end_lng               0\n",
       "member_casual         0\n",
       "dtype: int64"
      ]
     },
     "execution_count": 39,
     "metadata": {},
     "output_type": "execute_result"
    }
   ],
   "source": [
    "null_counts"
   ]
  },
  {
   "cell_type": "code",
   "execution_count": 16,
   "id": "e69cecff",
   "metadata": {},
   "outputs": [],
   "source": [
    "duplicate_rows = combined_df.duplicated().sum()"
   ]
  },
  {
   "cell_type": "code",
   "execution_count": 17,
   "id": "72c3936b",
   "metadata": {},
   "outputs": [
    {
     "data": {
      "text/plain": [
       "0"
      ]
     },
     "execution_count": 17,
     "metadata": {},
     "output_type": "execute_result"
    }
   ],
   "source": [
    "duplicate_rows"
   ]
  },
  {
   "cell_type": "code",
   "execution_count": 35,
   "id": "415e2339",
   "metadata": {},
   "outputs": [
    {
     "name": "stdout",
     "output_type": "stream",
     "text": [
      "<class 'pandas.core.frame.DataFrame'>\n",
      "Int64Index: 985532 entries, 0 to 988850\n",
      "Data columns (total 14 columns):\n",
      " #   Column              Non-Null Count   Dtype  \n",
      "---  ------              --------------   -----  \n",
      " 0   Unnamed: 0          985532 non-null  int64  \n",
      " 1   ride_id             985532 non-null  object \n",
      " 2   rideable_type       985532 non-null  object \n",
      " 3   started_at          985532 non-null  object \n",
      " 4   ended_at            985532 non-null  object \n",
      " 5   start_station_name  985519 non-null  object \n",
      " 6   start_station_id    985519 non-null  object \n",
      " 7   end_station_name    985532 non-null  object \n",
      " 8   end_station_id      985532 non-null  object \n",
      " 9   start_lat           985532 non-null  float64\n",
      " 10  start_lng           985532 non-null  float64\n",
      " 11  end_lat             985532 non-null  float64\n",
      " 12  end_lng             985532 non-null  float64\n",
      " 13  member_casual       985532 non-null  object \n",
      "dtypes: float64(4), int64(1), object(9)\n",
      "memory usage: 112.8+ MB\n"
     ]
    }
   ],
   "source": [
    "combined_df.info()"
   ]
  },
  {
   "cell_type": "code",
   "execution_count": 23,
   "id": "c9373c3e",
   "metadata": {},
   "outputs": [
    {
     "data": {
      "text/html": [
       "<div>\n",
       "<style scoped>\n",
       "    .dataframe tbody tr th:only-of-type {\n",
       "        vertical-align: middle;\n",
       "    }\n",
       "\n",
       "    .dataframe tbody tr th {\n",
       "        vertical-align: top;\n",
       "    }\n",
       "\n",
       "    .dataframe thead th {\n",
       "        text-align: right;\n",
       "    }\n",
       "</style>\n",
       "<table border=\"1\" class=\"dataframe\">\n",
       "  <thead>\n",
       "    <tr style=\"text-align: right;\">\n",
       "      <th></th>\n",
       "      <th>end_station_name</th>\n",
       "      <th>end_station_id</th>\n",
       "    </tr>\n",
       "  </thead>\n",
       "  <tbody>\n",
       "    <tr>\n",
       "      <th>0</th>\n",
       "      <td>Hamilton Park</td>\n",
       "      <td>JC009</td>\n",
       "    </tr>\n",
       "    <tr>\n",
       "      <th>1</th>\n",
       "      <td>Southwest Park - Jackson St &amp; Observer Hwy</td>\n",
       "      <td>HB401</td>\n",
       "    </tr>\n",
       "    <tr>\n",
       "      <th>2</th>\n",
       "      <td>Marshall St &amp; 2 St</td>\n",
       "      <td>HB408</td>\n",
       "    </tr>\n",
       "    <tr>\n",
       "      <th>3</th>\n",
       "      <td>Hamilton Park</td>\n",
       "      <td>JC009</td>\n",
       "    </tr>\n",
       "    <tr>\n",
       "      <th>4</th>\n",
       "      <td>Manila &amp; 1st</td>\n",
       "      <td>JC082</td>\n",
       "    </tr>\n",
       "  </tbody>\n",
       "</table>\n",
       "</div>"
      ],
      "text/plain": [
       "                             end_station_name end_station_id\n",
       "0                               Hamilton Park          JC009\n",
       "1  Southwest Park - Jackson St & Observer Hwy          HB401\n",
       "2                          Marshall St & 2 St          HB408\n",
       "3                               Hamilton Park          JC009\n",
       "4                                Manila & 1st          JC082"
      ]
     },
     "execution_count": 23,
     "metadata": {},
     "output_type": "execute_result"
    }
   ],
   "source": [
    "combined_df[['end_station_name','end_station_id']].head()"
   ]
  },
  {
   "cell_type": "code",
   "execution_count": 30,
   "id": "73cdc2f3",
   "metadata": {},
   "outputs": [
    {
     "data": {
      "image/png": "[encoded data removed]",
      "text/plain": [
       "<Figure size 1000x600 with 1 Axes>"
      ]
     },
     "metadata": {},
     "output_type": "display_data"
    }
   ],
   "source": [
    "\n",
    "import matplotlib.pyplot as plt\n",
    "\n",
    "\n",
    "# Assuming combined_df is your DataFrame\n",
    "station_counts = combined_df['end_station_name'].value_counts().head(10)\n",
    "\n",
    "plt.figure(figsize=(10, 6))\n",
    "station_counts.plot(kind='bar', edgecolor='black')\n",
    "plt.xlabel('Top 10 End Station Names')\n",
    "plt.ylabel('Frequency')\n",
    "plt.title('Top 10 Most Visited End Station Names')\n",
    "plt.xticks(rotation=45)  \n",
    "plt.tight_layout()\n",
    "plt.show()"
   ]
  },
  {
   "cell_type": "code",
   "execution_count": 31,
   "id": "60f266fb",
   "metadata": {},
   "outputs": [],
   "source": [
    "combined_df.dropna(subset=['end_station_name'], inplace=True)"
   ]
  },
  {
   "cell_type": "code",
   "execution_count": 32,
   "id": "add3d5f6",
   "metadata": {},
   "outputs": [],
   "source": [
    "combined_df.dropna(subset=['end_station_id'], inplace=True)"
   ]
  },
  {
   "cell_type": "code",
   "execution_count": 36,
   "id": "4066b09d",
   "metadata": {},
   "outputs": [],
   "source": [
    "combined_df.dropna(subset=['start_station_name'], inplace=True)"
   ]
  },
  {
   "cell_type": "code",
   "execution_count": 37,
   "id": "877e9bea",
   "metadata": {},
   "outputs": [],
   "source": [
    "combined_df.dropna(subset=['start_station_id'], inplace=True)"
   ]
  },
  {
   "cell_type": "code",
   "execution_count": 40,
   "id": "d0a90a4e",
   "metadata": {},
   "outputs": [
    {
     "data": {
      "text/plain": [
       "(985519, 14)"
      ]
     },
     "execution_count": 40,
     "metadata": {},
     "output_type": "execute_result"
    }
   ],
   "source": [
    "combined_df.shape"
   ]
  },
  {
   "cell_type": "code",
   "execution_count": null,
   "id": "0ad55b19",
   "metadata": {},
   "outputs": [],
   "source": []
  },
  {
   "cell_type": "code",
   "execution_count": 41,
   "id": "42c66efb",
   "metadata": {},
   "outputs": [],
   "source": [
    "combined_df.to_csv(\"cleaned-ALL-2023-citibike-tripdata.csv\")"
   ]
  },
  {
   "cell_type": "code",
   "execution_count": 43,
   "id": "cd39697c",
   "metadata": {},
   "outputs": [],
   "source": [
    "combined_df['start_time'] = pd.to_datetime(combined_df['started_at'])\n",
    "combined_df['end_time'] = pd.to_datetime(combined_df['ended_at'])"
   ]
  },
  {
   "cell_type": "code",
   "execution_count": 47,
   "id": "4c173789",
   "metadata": {},
   "outputs": [],
   "source": [
    "# Calculate trip duration in minutes\n",
    "combined_df['trip_duration_minutes'] = (combined_df['start_time'] - combined_df['end_time']).dt.total_seconds() / 60\n"
   ]
  },
  {
   "cell_type": "code",
   "execution_count": null,
   "id": "ac2db0cf",
   "metadata": {},
   "outputs": [],
   "source": []
  }
 ],
 "metadata": {
  "kernelspec": {
   "display_name": "Python 3 (ipykernel)",
   "language": "python",
   "name": "python3"
  },
  "language_info": {
   "codemirror_mode": {
    "name": "ipython",
    "version": 3
   },
   "file_extension": ".py",
   "mimetype": "text/x-python",
   "name": "python",
   "nbconvert_exporter": "python",
   "pygments_lexer": "ipython3",
   "version": "3.10.9"
  }
 },
 "nbformat": 4,
 "nbformat_minor": 5
}
